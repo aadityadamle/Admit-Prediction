{
  "nbformat": 4,
  "nbformat_minor": 0,
  "metadata": {
    "colab": {
      "name": "Copy of Admit Prediction.ipynb",
      "provenance": [],
      "authorship_tag": "ABX9TyOe40fqhtaxIgeC7T8tTDoE",
      "include_colab_link": true
    },
    "kernelspec": {
      "name": "python3",
      "display_name": "Python 3"
    }
  },
  "cells": [
    {
      "cell_type": "markdown",
      "metadata": {
        "id": "view-in-github",
        "colab_type": "text"
      },
      "source": [
        "<a href=\"https://colab.research.google.com/github/aadityadamle/Admit-Prediction/blob/master/Admit_Prediction.ipynb\" target=\"_parent\"><img src=\"https://colab.research.google.com/assets/colab-badge.svg\" alt=\"Open In Colab\"/></a>"
      ]
    },
    {
      "cell_type": "code",
      "metadata": {
        "id": "u-YmwMo759wo",
        "colab_type": "code",
        "colab": {}
      },
      "source": [
        "# import statements\n",
        "import numpy as np\n",
        "import pandas as pd\n",
        "import matplotlib.pyplot as plt\n",
        "\n",
        "from sklearn.model_selection import train_test_split\n",
        "from sklearn.linear_model import LinearRegression\n"
      ],
      "execution_count": 1,
      "outputs": []
    },
    {
      "cell_type": "code",
      "metadata": {
        "id": "cMwd6_bP6h_Z",
        "colab_type": "code",
        "colab": {}
      },
      "source": [
        "# loading the data from csv file saved at the url\n",
        "data = pd.read_csv(\"https://raw.githubusercontent.com/aadityadamle/Admit-Prediction/master/Admission_Predict_Ver1.1.csv\")"
      ],
      "execution_count": 2,
      "outputs": []
    },
    {
      "cell_type": "code",
      "metadata": {
        "id": "aBesGPo17YK6",
        "colab_type": "code",
        "colab": {
          "base_uri": "https://localhost:8080/",
          "height": 195
        },
        "outputId": "86c47e73-2f51-4849-bc42-1c84aa739e1f"
      },
      "source": [
        "# observing the data with the first 5 rows \n",
        "data.head()"
      ],
      "execution_count": 3,
      "outputs": [
        {
          "output_type": "execute_result",
          "data": {
            "text/html": [
              "<div>\n",
              "<style scoped>\n",
              "    .dataframe tbody tr th:only-of-type {\n",
              "        vertical-align: middle;\n",
              "    }\n",
              "\n",
              "    .dataframe tbody tr th {\n",
              "        vertical-align: top;\n",
              "    }\n",
              "\n",
              "    .dataframe thead th {\n",
              "        text-align: right;\n",
              "    }\n",
              "</style>\n",
              "<table border=\"1\" class=\"dataframe\">\n",
              "  <thead>\n",
              "    <tr style=\"text-align: right;\">\n",
              "      <th></th>\n",
              "      <th>Serial No.</th>\n",
              "      <th>GRE Score</th>\n",
              "      <th>TOEFL Score</th>\n",
              "      <th>University Rating</th>\n",
              "      <th>SOP</th>\n",
              "      <th>LOR</th>\n",
              "      <th>CGPA</th>\n",
              "      <th>Research</th>\n",
              "      <th>Chance of Admit</th>\n",
              "    </tr>\n",
              "  </thead>\n",
              "  <tbody>\n",
              "    <tr>\n",
              "      <th>0</th>\n",
              "      <td>1</td>\n",
              "      <td>337</td>\n",
              "      <td>118</td>\n",
              "      <td>4</td>\n",
              "      <td>4.5</td>\n",
              "      <td>4.5</td>\n",
              "      <td>9.65</td>\n",
              "      <td>1</td>\n",
              "      <td>0.92</td>\n",
              "    </tr>\n",
              "    <tr>\n",
              "      <th>1</th>\n",
              "      <td>2</td>\n",
              "      <td>324</td>\n",
              "      <td>107</td>\n",
              "      <td>4</td>\n",
              "      <td>4.0</td>\n",
              "      <td>4.5</td>\n",
              "      <td>8.87</td>\n",
              "      <td>1</td>\n",
              "      <td>0.76</td>\n",
              "    </tr>\n",
              "    <tr>\n",
              "      <th>2</th>\n",
              "      <td>3</td>\n",
              "      <td>316</td>\n",
              "      <td>104</td>\n",
              "      <td>3</td>\n",
              "      <td>3.0</td>\n",
              "      <td>3.5</td>\n",
              "      <td>8.00</td>\n",
              "      <td>1</td>\n",
              "      <td>0.72</td>\n",
              "    </tr>\n",
              "    <tr>\n",
              "      <th>3</th>\n",
              "      <td>4</td>\n",
              "      <td>322</td>\n",
              "      <td>110</td>\n",
              "      <td>3</td>\n",
              "      <td>3.5</td>\n",
              "      <td>2.5</td>\n",
              "      <td>8.67</td>\n",
              "      <td>1</td>\n",
              "      <td>0.80</td>\n",
              "    </tr>\n",
              "    <tr>\n",
              "      <th>4</th>\n",
              "      <td>5</td>\n",
              "      <td>314</td>\n",
              "      <td>103</td>\n",
              "      <td>2</td>\n",
              "      <td>2.0</td>\n",
              "      <td>3.0</td>\n",
              "      <td>8.21</td>\n",
              "      <td>0</td>\n",
              "      <td>0.65</td>\n",
              "    </tr>\n",
              "  </tbody>\n",
              "</table>\n",
              "</div>"
            ],
            "text/plain": [
              "   Serial No.  GRE Score  TOEFL Score  ...  CGPA  Research  Chance of Admit \n",
              "0           1        337          118  ...  9.65         1              0.92\n",
              "1           2        324          107  ...  8.87         1              0.76\n",
              "2           3        316          104  ...  8.00         1              0.72\n",
              "3           4        322          110  ...  8.67         1              0.80\n",
              "4           5        314          103  ...  8.21         0              0.65\n",
              "\n",
              "[5 rows x 9 columns]"
            ]
          },
          "metadata": {
            "tags": []
          },
          "execution_count": 3
        }
      ]
    },
    {
      "cell_type": "code",
      "metadata": {
        "id": "VYk7MC2H7cNZ",
        "colab_type": "code",
        "colab": {
          "base_uri": "https://localhost:8080/",
          "height": 34
        },
        "outputId": "64dfec9d-a21c-4167-e473-701463782388"
      },
      "source": [
        "# finding the no. of rows and columns in the dataset\n",
        "data.shape"
      ],
      "execution_count": 4,
      "outputs": [
        {
          "output_type": "execute_result",
          "data": {
            "text/plain": [
              "(500, 9)"
            ]
          },
          "metadata": {
            "tags": []
          },
          "execution_count": 4
        }
      ]
    },
    {
      "cell_type": "code",
      "metadata": {
        "id": "5fINaTg3AGpS",
        "colab_type": "code",
        "colab": {}
      },
      "source": [
        "# deleting the rows which have \"na\" values which means absence of data \n",
        "data = data.dropna()"
      ],
      "execution_count": 5,
      "outputs": []
    },
    {
      "cell_type": "code",
      "metadata": {
        "id": "KXd-xEquAOgV",
        "colab_type": "code",
        "colab": {
          "base_uri": "https://localhost:8080/",
          "height": 34
        },
        "outputId": "ecdf7977-5c01-41f2-d1e6-cee3aaf1d2fb"
      },
      "source": [
        "# the shape of data is unchanged which means there are zero \"na\" and hence data.dropna() had no effect \n",
        "data.shape"
      ],
      "execution_count": 6,
      "outputs": [
        {
          "output_type": "execute_result",
          "data": {
            "text/plain": [
              "(500, 9)"
            ]
          },
          "metadata": {
            "tags": []
          },
          "execution_count": 6
        }
      ]
    },
    {
      "cell_type": "code",
      "metadata": {
        "id": "Yub2uAYB7liA",
        "colab_type": "code",
        "colab": {
          "base_uri": "https://localhost:8080/",
          "height": 35
        },
        "outputId": "5c3aed08-31c9-4c27-e9af-1d3aa575faf5"
      },
      "source": [
        "# we have a default index and hence we don't need the \"Serial No.\" column whose index is \"0\"\n",
        "data.columns[0]"
      ],
      "execution_count": 7,
      "outputs": [
        {
          "output_type": "execute_result",
          "data": {
            "application/vnd.google.colaboratory.intrinsic+json": {
              "type": "string"
            },
            "text/plain": [
              "'Serial No.'"
            ]
          },
          "metadata": {
            "tags": []
          },
          "execution_count": 7
        }
      ]
    },
    {
      "cell_type": "code",
      "metadata": {
        "id": "dG3nlT9n8Dsv",
        "colab_type": "code",
        "colab": {}
      },
      "source": [
        "# hence we use drop function to delete the column\n",
        "data.drop(data.columns[0],axis = 1, inplace = True)"
      ],
      "execution_count": 8,
      "outputs": []
    },
    {
      "cell_type": "code",
      "metadata": {
        "id": "v-z2Suwx8H1W",
        "colab_type": "code",
        "colab": {
          "base_uri": "https://localhost:8080/",
          "height": 195
        },
        "outputId": "52796b74-4f88-44e2-c968-c8f9658d09da"
      },
      "source": [
        "# after deleting the column we again observe the dataset\n",
        "data.head()"
      ],
      "execution_count": 9,
      "outputs": [
        {
          "output_type": "execute_result",
          "data": {
            "text/html": [
              "<div>\n",
              "<style scoped>\n",
              "    .dataframe tbody tr th:only-of-type {\n",
              "        vertical-align: middle;\n",
              "    }\n",
              "\n",
              "    .dataframe tbody tr th {\n",
              "        vertical-align: top;\n",
              "    }\n",
              "\n",
              "    .dataframe thead th {\n",
              "        text-align: right;\n",
              "    }\n",
              "</style>\n",
              "<table border=\"1\" class=\"dataframe\">\n",
              "  <thead>\n",
              "    <tr style=\"text-align: right;\">\n",
              "      <th></th>\n",
              "      <th>GRE Score</th>\n",
              "      <th>TOEFL Score</th>\n",
              "      <th>University Rating</th>\n",
              "      <th>SOP</th>\n",
              "      <th>LOR</th>\n",
              "      <th>CGPA</th>\n",
              "      <th>Research</th>\n",
              "      <th>Chance of Admit</th>\n",
              "    </tr>\n",
              "  </thead>\n",
              "  <tbody>\n",
              "    <tr>\n",
              "      <th>0</th>\n",
              "      <td>337</td>\n",
              "      <td>118</td>\n",
              "      <td>4</td>\n",
              "      <td>4.5</td>\n",
              "      <td>4.5</td>\n",
              "      <td>9.65</td>\n",
              "      <td>1</td>\n",
              "      <td>0.92</td>\n",
              "    </tr>\n",
              "    <tr>\n",
              "      <th>1</th>\n",
              "      <td>324</td>\n",
              "      <td>107</td>\n",
              "      <td>4</td>\n",
              "      <td>4.0</td>\n",
              "      <td>4.5</td>\n",
              "      <td>8.87</td>\n",
              "      <td>1</td>\n",
              "      <td>0.76</td>\n",
              "    </tr>\n",
              "    <tr>\n",
              "      <th>2</th>\n",
              "      <td>316</td>\n",
              "      <td>104</td>\n",
              "      <td>3</td>\n",
              "      <td>3.0</td>\n",
              "      <td>3.5</td>\n",
              "      <td>8.00</td>\n",
              "      <td>1</td>\n",
              "      <td>0.72</td>\n",
              "    </tr>\n",
              "    <tr>\n",
              "      <th>3</th>\n",
              "      <td>322</td>\n",
              "      <td>110</td>\n",
              "      <td>3</td>\n",
              "      <td>3.5</td>\n",
              "      <td>2.5</td>\n",
              "      <td>8.67</td>\n",
              "      <td>1</td>\n",
              "      <td>0.80</td>\n",
              "    </tr>\n",
              "    <tr>\n",
              "      <th>4</th>\n",
              "      <td>314</td>\n",
              "      <td>103</td>\n",
              "      <td>2</td>\n",
              "      <td>2.0</td>\n",
              "      <td>3.0</td>\n",
              "      <td>8.21</td>\n",
              "      <td>0</td>\n",
              "      <td>0.65</td>\n",
              "    </tr>\n",
              "  </tbody>\n",
              "</table>\n",
              "</div>"
            ],
            "text/plain": [
              "   GRE Score  TOEFL Score  University Rating  ...  CGPA  Research  Chance of Admit \n",
              "0        337          118                  4  ...  9.65         1              0.92\n",
              "1        324          107                  4  ...  8.87         1              0.76\n",
              "2        316          104                  3  ...  8.00         1              0.72\n",
              "3        322          110                  3  ...  8.67         1              0.80\n",
              "4        314          103                  2  ...  8.21         0              0.65\n",
              "\n",
              "[5 rows x 8 columns]"
            ]
          },
          "metadata": {
            "tags": []
          },
          "execution_count": 9
        }
      ]
    },
    {
      "cell_type": "code",
      "metadata": {
        "id": "wkKCua5E8daV",
        "colab_type": "code",
        "colab": {
          "base_uri": "https://localhost:8080/",
          "height": 67
        },
        "outputId": "b80ada0d-1114-4d36-e19d-f161e99a3dc9"
      },
      "source": [
        "# Viewing the final columns which we'll use for prediction\n",
        "data.columns"
      ],
      "execution_count": 10,
      "outputs": [
        {
          "output_type": "execute_result",
          "data": {
            "text/plain": [
              "Index(['GRE Score', 'TOEFL Score', 'University Rating', 'SOP', 'LOR ', 'CGPA',\n",
              "       'Research', 'Chance of Admit '],\n",
              "      dtype='object')"
            ]
          },
          "metadata": {
            "tags": []
          },
          "execution_count": 10
        }
      ]
    },
    {
      "cell_type": "code",
      "metadata": {
        "id": "xtxLfeF_8gZ5",
        "colab_type": "code",
        "colab": {}
      },
      "source": [
        "# Separating X from data\n",
        "X = data.iloc[:,:7]"
      ],
      "execution_count": 11,
      "outputs": []
    },
    {
      "cell_type": "code",
      "metadata": {
        "id": "vgU3TGzq9KPP",
        "colab_type": "code",
        "colab": {
          "base_uri": "https://localhost:8080/",
          "height": 195
        },
        "outputId": "a650516f-42e5-4680-88bc-1c7fd8634ffb"
      },
      "source": [
        "X.head()"
      ],
      "execution_count": 12,
      "outputs": [
        {
          "output_type": "execute_result",
          "data": {
            "text/html": [
              "<div>\n",
              "<style scoped>\n",
              "    .dataframe tbody tr th:only-of-type {\n",
              "        vertical-align: middle;\n",
              "    }\n",
              "\n",
              "    .dataframe tbody tr th {\n",
              "        vertical-align: top;\n",
              "    }\n",
              "\n",
              "    .dataframe thead th {\n",
              "        text-align: right;\n",
              "    }\n",
              "</style>\n",
              "<table border=\"1\" class=\"dataframe\">\n",
              "  <thead>\n",
              "    <tr style=\"text-align: right;\">\n",
              "      <th></th>\n",
              "      <th>GRE Score</th>\n",
              "      <th>TOEFL Score</th>\n",
              "      <th>University Rating</th>\n",
              "      <th>SOP</th>\n",
              "      <th>LOR</th>\n",
              "      <th>CGPA</th>\n",
              "      <th>Research</th>\n",
              "    </tr>\n",
              "  </thead>\n",
              "  <tbody>\n",
              "    <tr>\n",
              "      <th>0</th>\n",
              "      <td>337</td>\n",
              "      <td>118</td>\n",
              "      <td>4</td>\n",
              "      <td>4.5</td>\n",
              "      <td>4.5</td>\n",
              "      <td>9.65</td>\n",
              "      <td>1</td>\n",
              "    </tr>\n",
              "    <tr>\n",
              "      <th>1</th>\n",
              "      <td>324</td>\n",
              "      <td>107</td>\n",
              "      <td>4</td>\n",
              "      <td>4.0</td>\n",
              "      <td>4.5</td>\n",
              "      <td>8.87</td>\n",
              "      <td>1</td>\n",
              "    </tr>\n",
              "    <tr>\n",
              "      <th>2</th>\n",
              "      <td>316</td>\n",
              "      <td>104</td>\n",
              "      <td>3</td>\n",
              "      <td>3.0</td>\n",
              "      <td>3.5</td>\n",
              "      <td>8.00</td>\n",
              "      <td>1</td>\n",
              "    </tr>\n",
              "    <tr>\n",
              "      <th>3</th>\n",
              "      <td>322</td>\n",
              "      <td>110</td>\n",
              "      <td>3</td>\n",
              "      <td>3.5</td>\n",
              "      <td>2.5</td>\n",
              "      <td>8.67</td>\n",
              "      <td>1</td>\n",
              "    </tr>\n",
              "    <tr>\n",
              "      <th>4</th>\n",
              "      <td>314</td>\n",
              "      <td>103</td>\n",
              "      <td>2</td>\n",
              "      <td>2.0</td>\n",
              "      <td>3.0</td>\n",
              "      <td>8.21</td>\n",
              "      <td>0</td>\n",
              "    </tr>\n",
              "  </tbody>\n",
              "</table>\n",
              "</div>"
            ],
            "text/plain": [
              "   GRE Score  TOEFL Score  University Rating  SOP  LOR   CGPA  Research\n",
              "0        337          118                  4  4.5   4.5  9.65         1\n",
              "1        324          107                  4  4.0   4.5  8.87         1\n",
              "2        316          104                  3  3.0   3.5  8.00         1\n",
              "3        322          110                  3  3.5   2.5  8.67         1\n",
              "4        314          103                  2  2.0   3.0  8.21         0"
            ]
          },
          "metadata": {
            "tags": []
          },
          "execution_count": 12
        }
      ]
    },
    {
      "cell_type": "code",
      "metadata": {
        "id": "FEOa7xha-RlH",
        "colab_type": "code",
        "colab": {}
      },
      "source": [
        "# Separating Y from data\n",
        "Y = data.iloc[:,7:]"
      ],
      "execution_count": 13,
      "outputs": []
    },
    {
      "cell_type": "code",
      "metadata": {
        "id": "VqU0b5El-kFE",
        "colab_type": "code",
        "colab": {
          "base_uri": "https://localhost:8080/",
          "height": 195
        },
        "outputId": "5a4ae89a-18ad-4c80-9c2f-c82de828bfc7"
      },
      "source": [
        "Y.head()"
      ],
      "execution_count": 14,
      "outputs": [
        {
          "output_type": "execute_result",
          "data": {
            "text/html": [
              "<div>\n",
              "<style scoped>\n",
              "    .dataframe tbody tr th:only-of-type {\n",
              "        vertical-align: middle;\n",
              "    }\n",
              "\n",
              "    .dataframe tbody tr th {\n",
              "        vertical-align: top;\n",
              "    }\n",
              "\n",
              "    .dataframe thead th {\n",
              "        text-align: right;\n",
              "    }\n",
              "</style>\n",
              "<table border=\"1\" class=\"dataframe\">\n",
              "  <thead>\n",
              "    <tr style=\"text-align: right;\">\n",
              "      <th></th>\n",
              "      <th>Chance of Admit</th>\n",
              "    </tr>\n",
              "  </thead>\n",
              "  <tbody>\n",
              "    <tr>\n",
              "      <th>0</th>\n",
              "      <td>0.92</td>\n",
              "    </tr>\n",
              "    <tr>\n",
              "      <th>1</th>\n",
              "      <td>0.76</td>\n",
              "    </tr>\n",
              "    <tr>\n",
              "      <th>2</th>\n",
              "      <td>0.72</td>\n",
              "    </tr>\n",
              "    <tr>\n",
              "      <th>3</th>\n",
              "      <td>0.80</td>\n",
              "    </tr>\n",
              "    <tr>\n",
              "      <th>4</th>\n",
              "      <td>0.65</td>\n",
              "    </tr>\n",
              "  </tbody>\n",
              "</table>\n",
              "</div>"
            ],
            "text/plain": [
              "   Chance of Admit \n",
              "0              0.92\n",
              "1              0.76\n",
              "2              0.72\n",
              "3              0.80\n",
              "4              0.65"
            ]
          },
          "metadata": {
            "tags": []
          },
          "execution_count": 14
        }
      ]
    },
    {
      "cell_type": "code",
      "metadata": {
        "id": "X5nA9PJe-p-D",
        "colab_type": "code",
        "colab": {}
      },
      "source": [
        "# Using train_test_split to split the data for tarining and testing \n",
        "X_train,X_test,Y_train,Y_test = train_test_split(X,Y, random_state = 0)"
      ],
      "execution_count": 15,
      "outputs": []
    },
    {
      "cell_type": "code",
      "metadata": {
        "id": "Oy1egZSi_LF8",
        "colab_type": "code",
        "colab": {}
      },
      "source": [
        "# Loading the classifier from the sklearn\n",
        "classifier = LinearRegression()"
      ],
      "execution_count": 16,
      "outputs": []
    },
    {
      "cell_type": "code",
      "metadata": {
        "id": "ctPN08st_9aZ",
        "colab_type": "code",
        "colab": {
          "base_uri": "https://localhost:8080/",
          "height": 34
        },
        "outputId": "b5230bda-a67c-4a36-92bc-ed4ed0bfdd2f"
      },
      "source": [
        "# Fitting the classifier onto the training data\n",
        "classifier.fit(X_train,Y_train)"
      ],
      "execution_count": 17,
      "outputs": [
        {
          "output_type": "execute_result",
          "data": {
            "text/plain": [
              "LinearRegression(copy_X=True, fit_intercept=True, n_jobs=None, normalize=False)"
            ]
          },
          "metadata": {
            "tags": []
          },
          "execution_count": 17
        }
      ]
    },
    {
      "cell_type": "code",
      "metadata": {
        "id": "jAB1uGR29IzY",
        "colab_type": "code",
        "colab": {
          "base_uri": "https://localhost:8080/",
          "height": 283
        },
        "outputId": "f49cce46-852d-4199-f764-f81d8f4311a5"
      },
      "source": [
        "# Visualize the effect of GRE Score on chance of of getting an admit. We see an increasing plot which shows higher GRE Score increases the chances of admission. \n",
        "plt.scatter(X_train[\"GRE Score\"],Y_train, color = \"red\")\n",
        "plt.xlabel(\"GRE Score\")\n",
        "plt.ylabel(\"Chance of Admission\")\n",
        "plt.legend([\"GRE Score\"])\n",
        "plt.show()"
      ],
      "execution_count": 18,
      "outputs": [
        {
          "output_type": "display_data",
          "data": {
            "image/png": "[encoded data removed]",
            "text/plain": [
              "<Figure size 432x288 with 1 Axes>"
            ]
          },
          "metadata": {
            "tags": [],
            "needs_background": "light"
          }
        }
      ]
    },
    {
      "cell_type": "code",
      "metadata": {
        "id": "76jgh99Wy8Io",
        "colab_type": "code",
        "colab": {
          "base_uri": "https://localhost:8080/",
          "height": 283
        },
        "outputId": "66837534-b976-4b45-b68c-2aace2eccbbb"
      },
      "source": [
        "# Visulize the University Rating vs. Chance of Admission. This plot shows that Universities with average rating(2.0 - 4.0) have high no. of admissions \n",
        "# signified by density of dots. Because nobody applies in universities with low ratings and those with high ratings have low acceptance rate in general.   \n",
        "plt.scatter(X_train[\"University Rating\"],Y_train, color = \"blue\")\n",
        "plt.xlabel(\"University Rating\")\n",
        "plt.ylabel(\"Chance of Admission\")\n",
        "plt.legend([\"University Rating\"])\n",
        "plt.show()"
      ],
      "execution_count": 19,
      "outputs": [
        {
          "output_type": "display_data",
          "data": {
            "image/png": "[encoded data removed]",
            "text/plain": [
              "<Figure size 432x288 with 1 Axes>"
            ]
          },
          "metadata": {
            "tags": [],
            "needs_background": "light"
          }
        }
      ]
    },
    {
      "cell_type": "code",
      "metadata": {
        "id": "gy92JWI_zCrH",
        "colab_type": "code",
        "colab": {
          "base_uri": "https://localhost:8080/",
          "height": 283
        },
        "outputId": "5014c15d-5b05-4abd-8998-f2bcf8b6cd78"
      },
      "source": [
        "# Visualize the effect of CGPA on chance of of getting an admit. We can clearly see that higher CGPA has higher chance of admission.\n",
        "plt.scatter(X_train[\"CGPA\"],Y_train, color = \"green\")\n",
        "plt.xlabel(\"CGPA\")\n",
        "plt.ylabel(\"Chance of Admission\")\n",
        "plt.legend([\"CGPA\"])\n",
        "plt.show()"
      ],
      "execution_count": 20,
      "outputs": [
        {
          "output_type": "display_data",
          "data": {
            "image/png": "[encoded data removed]",
            "text/plain": [
              "<Figure size 432x288 with 1 Axes>"
            ]
          },
          "metadata": {
            "tags": [],
            "needs_background": "light"
          }
        }
      ]
    },
    {
      "cell_type": "code",
      "metadata": {
        "id": "y0JMvUpwBJ43",
        "colab_type": "code",
        "colab": {}
      },
      "source": [
        "#Using the classifier to predict the test data and storing it in prediction_of_y array\n",
        "prediction_of_Y = classifier.predict(X_test)"
      ],
      "execution_count": 21,
      "outputs": []
    },
    {
      "cell_type": "code",
      "metadata": {
        "id": "Np_fF56kBjxw",
        "colab_type": "code",
        "colab": {
          "base_uri": "https://localhost:8080/",
          "height": 1000
        },
        "outputId": "4f3b4059-d811-4d5f-c7a9-d2f23e9f0214"
      },
      "source": [
        "prediction_of_Y"
      ],
      "execution_count": 22,
      "outputs": [
        {
          "output_type": "execute_result",
          "data": {
            "text/plain": [
              "array([[0.65975096],\n",
              "       [0.83294571],\n",
              "       [0.77782128],\n",
              "       [0.87880993],\n",
              "       [0.60173406],\n",
              "       [0.64502738],\n",
              "       [0.53132327],\n",
              "       [0.69353416],\n",
              "       [0.52531517],\n",
              "       [0.74728773],\n",
              "       [0.612947  ],\n",
              "       [0.70978457],\n",
              "       [0.62315467],\n",
              "       [0.75359963],\n",
              "       [0.88362883],\n",
              "       [0.51045588],\n",
              "       [0.82256853],\n",
              "       [0.64583472],\n",
              "       [0.76625281],\n",
              "       [0.53339105],\n",
              "       [0.51516376],\n",
              "       [0.72205954],\n",
              "       [0.52044417],\n",
              "       [0.92038429],\n",
              "       [0.83305155],\n",
              "       [0.72521724],\n",
              "       [0.70065949],\n",
              "       [0.50954091],\n",
              "       [0.58288457],\n",
              "       [0.59567607],\n",
              "       [0.72610563],\n",
              "       [0.48480355],\n",
              "       [0.65293521],\n",
              "       [0.839799  ],\n",
              "       [0.56549766],\n",
              "       [0.59542651],\n",
              "       [0.84407308],\n",
              "       [0.86619206],\n",
              "       [0.59104477],\n",
              "       [0.65947534],\n",
              "       [0.66910836],\n",
              "       [0.90058613],\n",
              "       [0.86561785],\n",
              "       [0.72146196],\n",
              "       [0.77348686],\n",
              "       [0.80604453],\n",
              "       [0.96926279],\n",
              "       [0.84984464],\n",
              "       [0.64109529],\n",
              "       [0.65579329],\n",
              "       [0.6318989 ],\n",
              "       [0.63609964],\n",
              "       [0.61280262],\n",
              "       [0.80052397],\n",
              "       [0.69447591],\n",
              "       [0.85471517],\n",
              "       [0.52550084],\n",
              "       [0.86126331],\n",
              "       [0.60131499],\n",
              "       [0.63666918],\n",
              "       [0.49877751],\n",
              "       [0.90641769],\n",
              "       [0.61870867],\n",
              "       [0.94371373],\n",
              "       [0.72006847],\n",
              "       [0.61656329],\n",
              "       [0.73579791],\n",
              "       [0.84336336],\n",
              "       [0.52019237],\n",
              "       [0.77746109],\n",
              "       [0.89505028],\n",
              "       [0.78430342],\n",
              "       [0.69699337],\n",
              "       [0.64023465],\n",
              "       [0.7891092 ],\n",
              "       [0.91555411],\n",
              "       [0.75301271],\n",
              "       [0.72914241],\n",
              "       [0.55944709],\n",
              "       [0.66325412],\n",
              "       [0.59555374],\n",
              "       [0.85912771],\n",
              "       [0.5550105 ],\n",
              "       [0.67089549],\n",
              "       [0.7696652 ],\n",
              "       [0.55541526],\n",
              "       [0.81539882],\n",
              "       [0.61971643],\n",
              "       [0.45935232],\n",
              "       [0.66033316],\n",
              "       [0.71840213],\n",
              "       [0.78455576],\n",
              "       [0.65810914],\n",
              "       [0.70618604],\n",
              "       [0.62722798],\n",
              "       [0.94178263],\n",
              "       [0.54624893],\n",
              "       [0.53802966],\n",
              "       [0.60103645],\n",
              "       [0.61509302],\n",
              "       [0.93122381],\n",
              "       [0.72541488],\n",
              "       [0.96450459],\n",
              "       [0.62026028],\n",
              "       [0.71152104],\n",
              "       [0.6074989 ],\n",
              "       [0.71542991],\n",
              "       [0.85612206],\n",
              "       [0.70279057],\n",
              "       [0.70531259],\n",
              "       [0.46582737],\n",
              "       [0.5976422 ],\n",
              "       [0.64569337],\n",
              "       [0.54406775],\n",
              "       [0.5871687 ],\n",
              "       [0.85049004],\n",
              "       [0.5315997 ],\n",
              "       [0.94655524],\n",
              "       [0.82362017],\n",
              "       [0.88625829],\n",
              "       [0.65920833],\n",
              "       [0.7588887 ],\n",
              "       [0.88531575],\n",
              "       [0.84420713],\n",
              "       [0.61306626]])"
            ]
          },
          "metadata": {
            "tags": []
          },
          "execution_count": 22
        }
      ]
    },
    {
      "cell_type": "code",
      "metadata": {
        "id": "n5Aoq29bVEfJ",
        "colab_type": "code",
        "colab": {
          "base_uri": "https://localhost:8080/",
          "height": 487
        },
        "outputId": "1413cb9c-1f3e-45f8-fb06-06e0abb2627a"
      },
      "source": [
        "# Comparision of predicted data(prediction_of_Y) and actual data(Y_test)\n",
        "print(Y_test)\n",
        "print(pd.DataFrame(prediction_of_Y))"
      ],
      "execution_count": 23,
      "outputs": [
        {
          "output_type": "stream",
          "text": [
            "     Chance of Admit \n",
            "90               0.64\n",
            "254              0.85\n",
            "283              0.80\n",
            "445              0.91\n",
            "461              0.68\n",
            "..                ...\n",
            "430              0.74\n",
            "49               0.78\n",
            "134              0.89\n",
            "365              0.86\n",
            "413              0.49\n",
            "\n",
            "[125 rows x 1 columns]\n",
            "            0\n",
            "0    0.659751\n",
            "1    0.832946\n",
            "2    0.777821\n",
            "3    0.878810\n",
            "4    0.601734\n",
            "..        ...\n",
            "120  0.659208\n",
            "121  0.758889\n",
            "122  0.885316\n",
            "123  0.844207\n",
            "124  0.613066\n",
            "\n",
            "[125 rows x 1 columns]\n"
          ],
          "name": "stdout"
        }
      ]
    },
    {
      "cell_type": "code",
      "metadata": {
        "id": "iSewXLREwv_Y",
        "colab_type": "code",
        "colab": {
          "base_uri": "https://localhost:8080/",
          "height": 279
        },
        "outputId": "a441bf2b-735b-4848-f47d-362540312b7f"
      },
      "source": [
        "# Visualize the difference in graph for same parameter \"GRE Score\" for actual chance & prediction chance. In this plot we understand how GRE Score parameter \n",
        "# which is same produces different effect for predicted value than for actual value. The red dots at the bottom of the graph are outliers for our model.  \n",
        "plt.scatter(X_test[\"GRE Score\"],Y_test, color = \"red\")\n",
        "plt.scatter(X_test[\"GRE Score\"], prediction_of_Y, color='yellow')\n",
        "plt.xlabel(\"GRE Score\")\n",
        "plt.ylabel(\"Chance of Admission\")\n",
        "plt.legend([\"Actual chance for GRE Score\",\"Predicted chance for GRE Score\"])\n",
        "plt.show()"
      ],
      "execution_count": 24,
      "outputs": [
        {
          "output_type": "display_data",
          "data": {
            "image/png": "[encoded data removed]",
            "text/plain": [
              "<Figure size 432x288 with 1 Axes>"
            ]
          },
          "metadata": {
            "tags": [],
            "needs_background": "light"
          }
        }
      ]
    },
    {
      "cell_type": "code",
      "metadata": {
        "id": "I3yJ64jXmPc3",
        "colab_type": "code",
        "colab": {
          "base_uri": "https://localhost:8080/",
          "height": 279
        },
        "outputId": "c5986f07-2d2e-4a1b-81be-1f73f543a1d7"
      },
      "source": [
        "# Visualize the difference in graph for same parameter \"SOP\" for actual chance & prediction chance. This graph is more evident than above.\n",
        "# Consider SOP with rating 1.0: The actual chance of admission is near 60% and predictated chance is near 50%.\n",
        "# Consider SOP with rating 2.0: The actual chance of admission is lower the predited chance. And this continues for higher SOP as well.\n",
        "# Hence this model shows lower chance of admit than actual for low values of SOP and higher than actual chance for high values of SOP \n",
        "# which is true as SOP is a pivotal factor in getting an admission.    \n",
        "plt.scatter(X_test[\"SOP\"],Y_test, color = \"blue\")\n",
        "plt.scatter(X_test[\"SOP\"], prediction_of_Y, color='yellow')\n",
        "plt.xlabel(\"SOP\")\n",
        "plt.ylabel(\"Chance of Admission\")\n",
        "plt.legend([\"Actual chance for SOP\",\"Predicted chance for SOP\"])\n",
        "plt.show()"
      ],
      "execution_count": 25,
      "outputs": [
        {
          "output_type": "display_data",
          "data": {
            "image/png": "[encoded data removed]",
            "text/plain": [
              "<Figure size 432x288 with 1 Axes>"
            ]
          },
          "metadata": {
            "tags": [],
            "needs_background": "light"
          }
        }
      ]
    },
    {
      "cell_type": "code",
      "metadata": {
        "id": "zad6OYglBmT_",
        "colab_type": "code",
        "colab": {
          "base_uri": "https://localhost:8080/",
          "height": 34
        },
        "outputId": "73cb4fc2-eb58-41f2-fd7a-26fc2e7f82a0"
      },
      "source": [
        "# Comparing the predicted data with actual data to get the accuracy of the model\n",
        "print('Accuracy: {:.2f}'.format(classifier.score(X_test, Y_test)))"
      ],
      "execution_count": 26,
      "outputs": [
        {
          "output_type": "stream",
          "text": [
            "Accuracy: 0.80\n"
          ],
          "name": "stdout"
        }
      ]
    },
    {
      "cell_type": "code",
      "metadata": {
        "id": "UCwps3hdCIJr",
        "colab_type": "code",
        "colab": {}
      },
      "source": [
        ""
      ],
      "execution_count": 26,
      "outputs": []
    }
  ]
}