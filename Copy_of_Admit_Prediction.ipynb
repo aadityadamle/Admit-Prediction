{
  "nbformat": 4,
  "nbformat_minor": 0,
  "metadata": {
    "colab": {
      "name": "Copy of Admit Prediction.ipynb",
      "provenance": [],
      "collapsed_sections": [],
      "authorship_tag": "ABX9TyMGQ55Dah4WT9u4t2yYtbWG",
      "include_colab_link": true
    },
    "kernelspec": {
      "name": "python3",
      "display_name": "Python 3"
    }
  },
  "cells": [
    {
      "cell_type": "markdown",
      "metadata": {
        "id": "view-in-github",
        "colab_type": "text"
      },
      "source": [
        "<a href=\"https://colab.research.google.com/github/aadityadamle/Admit-Prediction/blob/master/Copy_of_Admit_Prediction.ipynb\" target=\"_parent\"><img src=\"https://colab.research.google.com/assets/colab-badge.svg\" alt=\"Open In Colab\"/></a>"
      ]
    },
    {
      "cell_type": "code",
      "metadata": {
        "id": "u-YmwMo759wo",
        "colab_type": "code",
        "colab": {}
      },
      "source": [
        "# import statements\n",
        "import numpy as np\n",
        "import pandas as pd\n",
        "import matplotlib.pyplot as plt\n",
        "\n",
        "from sklearn.model_selection import train_test_split\n",
        "from sklearn.linear_model import LinearRegression\n"
      ],
      "execution_count": 1,
      "outputs": []
    },
    {
      "cell_type": "code",
      "metadata": {
        "id": "cMwd6_bP6h_Z",
        "colab_type": "code",
        "colab": {}
      },
      "source": [
        "# loading the data from csv file saved at the url\n",
        "data = pd.read_csv(\"https://raw.githubusercontent.com/aadityadamle/Admit-Prediction/master/Admission_Predict_Ver1.1.csv\")"
      ],
      "execution_count": 2,
      "outputs": []
    },
    {
      "cell_type": "code",
      "metadata": {
        "id": "aBesGPo17YK6",
        "colab_type": "code",
        "colab": {
          "base_uri": "https://localhost:8080/",
          "height": 212
        },
        "outputId": "4315b2e3-d153-4e4e-d0d8-d2ab6fcc6654"
      },
      "source": [
        "# observing the data with the first 5 rows \n",
        "data.head()"
      ],
      "execution_count": 3,
      "outputs": [
        {
          "output_type": "execute_result",
          "data": {
            "text/html": [
              "<div>\n",
              "<style scoped>\n",
              "    .dataframe tbody tr th:only-of-type {\n",
              "        vertical-align: middle;\n",
              "    }\n",
              "\n",
              "    .dataframe tbody tr th {\n",
              "        vertical-align: top;\n",
              "    }\n",
              "\n",
              "    .dataframe thead th {\n",
              "        text-align: right;\n",
              "    }\n",
              "</style>\n",
              "<table border=\"1\" class=\"dataframe\">\n",
              "  <thead>\n",
              "    <tr style=\"text-align: right;\">\n",
              "      <th></th>\n",
              "      <th>Serial No.</th>\n",
              "      <th>GRE Score</th>\n",
              "      <th>TOEFL Score</th>\n",
              "      <th>University Rating</th>\n",
              "      <th>SOP</th>\n",
              "      <th>LOR</th>\n",
              "      <th>CGPA</th>\n",
              "      <th>Research</th>\n",
              "      <th>Chance of Admit</th>\n",
              "    </tr>\n",
              "  </thead>\n",
              "  <tbody>\n",
              "    <tr>\n",
              "      <th>0</th>\n",
              "      <td>1</td>\n",
              "      <td>337</td>\n",
              "      <td>118</td>\n",
              "      <td>4</td>\n",
              "      <td>4.5</td>\n",
              "      <td>4.5</td>\n",
              "      <td>9.65</td>\n",
              "      <td>1</td>\n",
              "      <td>0.92</td>\n",
              "    </tr>\n",
              "    <tr>\n",
              "      <th>1</th>\n",
              "      <td>2</td>\n",
              "      <td>324</td>\n",
              "      <td>107</td>\n",
              "      <td>4</td>\n",
              "      <td>4.0</td>\n",
              "      <td>4.5</td>\n",
              "      <td>8.87</td>\n",
              "      <td>1</td>\n",
              "      <td>0.76</td>\n",
              "    </tr>\n",
              "    <tr>\n",
              "      <th>2</th>\n",
              "      <td>3</td>\n",
              "      <td>316</td>\n",
              "      <td>104</td>\n",
              "      <td>3</td>\n",
              "      <td>3.0</td>\n",
              "      <td>3.5</td>\n",
              "      <td>8.00</td>\n",
              "      <td>1</td>\n",
              "      <td>0.72</td>\n",
              "    </tr>\n",
              "    <tr>\n",
              "      <th>3</th>\n",
              "      <td>4</td>\n",
              "      <td>322</td>\n",
              "      <td>110</td>\n",
              "      <td>3</td>\n",
              "      <td>3.5</td>\n",
              "      <td>2.5</td>\n",
              "      <td>8.67</td>\n",
              "      <td>1</td>\n",
              "      <td>0.80</td>\n",
              "    </tr>\n",
              "    <tr>\n",
              "      <th>4</th>\n",
              "      <td>5</td>\n",
              "      <td>314</td>\n",
              "      <td>103</td>\n",
              "      <td>2</td>\n",
              "      <td>2.0</td>\n",
              "      <td>3.0</td>\n",
              "      <td>8.21</td>\n",
              "      <td>0</td>\n",
              "      <td>0.65</td>\n",
              "    </tr>\n",
              "  </tbody>\n",
              "</table>\n",
              "</div>"
            ],
            "text/plain": [
              "   Serial No.  GRE Score  TOEFL Score  ...  CGPA  Research  Chance of Admit \n",
              "0           1        337          118  ...  9.65         1              0.92\n",
              "1           2        324          107  ...  8.87         1              0.76\n",
              "2           3        316          104  ...  8.00         1              0.72\n",
              "3           4        322          110  ...  8.67         1              0.80\n",
              "4           5        314          103  ...  8.21         0              0.65\n",
              "\n",
              "[5 rows x 9 columns]"
            ]
          },
          "metadata": {
            "tags": []
          },
          "execution_count": 3
        }
      ]
    },
    {
      "cell_type": "code",
      "metadata": {
        "id": "VYk7MC2H7cNZ",
        "colab_type": "code",
        "colab": {
          "base_uri": "https://localhost:8080/",
          "height": 34
        },
        "outputId": "775bf5d8-e332-411a-aa97-fa5dea7d5b25"
      },
      "source": [
        "# finding the no. of rows and columns in the dataset\n",
        "data.shape"
      ],
      "execution_count": 4,
      "outputs": [
        {
          "output_type": "execute_result",
          "data": {
            "text/plain": [
              "(500, 9)"
            ]
          },
          "metadata": {
            "tags": []
          },
          "execution_count": 4
        }
      ]
    },
    {
      "cell_type": "code",
      "metadata": {
        "id": "5fINaTg3AGpS",
        "colab_type": "code",
        "colab": {}
      },
      "source": [
        "# deleting the rows which have \"na\" values which means absence of data \n",
        "data = data.dropna()"
      ],
      "execution_count": 5,
      "outputs": []
    },
    {
      "cell_type": "code",
      "metadata": {
        "id": "KXd-xEquAOgV",
        "colab_type": "code",
        "colab": {
          "base_uri": "https://localhost:8080/",
          "height": 34
        },
        "outputId": "866b167d-de9e-48d0-ee13-03f64f1653ba"
      },
      "source": [
        "# the shape of data is unchanged which means there are zero \"na\" and hence data.dropna() had no effect \n",
        "data.shape"
      ],
      "execution_count": 6,
      "outputs": [
        {
          "output_type": "execute_result",
          "data": {
            "text/plain": [
              "(500, 9)"
            ]
          },
          "metadata": {
            "tags": []
          },
          "execution_count": 6
        }
      ]
    },
    {
      "cell_type": "code",
      "metadata": {
        "id": "1_MeCSjHG6wZ",
        "colab_type": "code",
        "colab": {
          "base_uri": "https://localhost:8080/",
          "height": 54
        },
        "outputId": "72cad102-4a26-43d1-d827-3c872ce5e1f0"
      },
      "source": [
        "#Printing the list of columns\n",
        "print(list(data.columns)) "
      ],
      "execution_count": 7,
      "outputs": [
        {
          "output_type": "stream",
          "text": [
            "['Serial No.', 'GRE Score', 'TOEFL Score', 'University Rating', 'SOP', 'LOR ', 'CGPA', 'Research', 'Chance of Admit ']\n"
          ],
          "name": "stdout"
        }
      ]
    },
    {
      "cell_type": "code",
      "metadata": {
        "id": "Yub2uAYB7liA",
        "colab_type": "code",
        "colab": {
          "base_uri": "https://localhost:8080/",
          "height": 35
        },
        "outputId": "17a92d88-dae7-467c-c8bf-838fabb00fbf"
      },
      "source": [
        "# we have a default index and hence we don't need the \"Serial No.\" column whose index is \"0\"\n",
        "data.columns[0]"
      ],
      "execution_count": 8,
      "outputs": [
        {
          "output_type": "execute_result",
          "data": {
            "application/vnd.google.colaboratory.intrinsic+json": {
              "type": "string"
            },
            "text/plain": [
              "'Serial No.'"
            ]
          },
          "metadata": {
            "tags": []
          },
          "execution_count": 8
        }
      ]
    },
    {
      "cell_type": "code",
      "metadata": {
        "id": "dG3nlT9n8Dsv",
        "colab_type": "code",
        "colab": {}
      },
      "source": [
        "# hence we use drop function to delete the column\n",
        "data.drop(data.columns[0],axis = 1, inplace = True)"
      ],
      "execution_count": 9,
      "outputs": []
    },
    {
      "cell_type": "code",
      "metadata": {
        "id": "v-z2Suwx8H1W",
        "colab_type": "code",
        "colab": {
          "base_uri": "https://localhost:8080/",
          "height": 195
        },
        "outputId": "9d57c850-0356-40d4-95b6-48bff27f738e"
      },
      "source": [
        "# after deleting the column we again observe the dataset\n",
        "data.head()"
      ],
      "execution_count": 10,
      "outputs": [
        {
          "output_type": "execute_result",
          "data": {
            "text/html": [
              "<div>\n",
              "<style scoped>\n",
              "    .dataframe tbody tr th:only-of-type {\n",
              "        vertical-align: middle;\n",
              "    }\n",
              "\n",
              "    .dataframe tbody tr th {\n",
              "        vertical-align: top;\n",
              "    }\n",
              "\n",
              "    .dataframe thead th {\n",
              "        text-align: right;\n",
              "    }\n",
              "</style>\n",
              "<table border=\"1\" class=\"dataframe\">\n",
              "  <thead>\n",
              "    <tr style=\"text-align: right;\">\n",
              "      <th></th>\n",
              "      <th>GRE Score</th>\n",
              "      <th>TOEFL Score</th>\n",
              "      <th>University Rating</th>\n",
              "      <th>SOP</th>\n",
              "      <th>LOR</th>\n",
              "      <th>CGPA</th>\n",
              "      <th>Research</th>\n",
              "      <th>Chance of Admit</th>\n",
              "    </tr>\n",
              "  </thead>\n",
              "  <tbody>\n",
              "    <tr>\n",
              "      <th>0</th>\n",
              "      <td>337</td>\n",
              "      <td>118</td>\n",
              "      <td>4</td>\n",
              "      <td>4.5</td>\n",
              "      <td>4.5</td>\n",
              "      <td>9.65</td>\n",
              "      <td>1</td>\n",
              "      <td>0.92</td>\n",
              "    </tr>\n",
              "    <tr>\n",
              "      <th>1</th>\n",
              "      <td>324</td>\n",
              "      <td>107</td>\n",
              "      <td>4</td>\n",
              "      <td>4.0</td>\n",
              "      <td>4.5</td>\n",
              "      <td>8.87</td>\n",
              "      <td>1</td>\n",
              "      <td>0.76</td>\n",
              "    </tr>\n",
              "    <tr>\n",
              "      <th>2</th>\n",
              "      <td>316</td>\n",
              "      <td>104</td>\n",
              "      <td>3</td>\n",
              "      <td>3.0</td>\n",
              "      <td>3.5</td>\n",
              "      <td>8.00</td>\n",
              "      <td>1</td>\n",
              "      <td>0.72</td>\n",
              "    </tr>\n",
              "    <tr>\n",
              "      <th>3</th>\n",
              "      <td>322</td>\n",
              "      <td>110</td>\n",
              "      <td>3</td>\n",
              "      <td>3.5</td>\n",
              "      <td>2.5</td>\n",
              "      <td>8.67</td>\n",
              "      <td>1</td>\n",
              "      <td>0.80</td>\n",
              "    </tr>\n",
              "    <tr>\n",
              "      <th>4</th>\n",
              "      <td>314</td>\n",
              "      <td>103</td>\n",
              "      <td>2</td>\n",
              "      <td>2.0</td>\n",
              "      <td>3.0</td>\n",
              "      <td>8.21</td>\n",
              "      <td>0</td>\n",
              "      <td>0.65</td>\n",
              "    </tr>\n",
              "  </tbody>\n",
              "</table>\n",
              "</div>"
            ],
            "text/plain": [
              "   GRE Score  TOEFL Score  University Rating  ...  CGPA  Research  Chance of Admit \n",
              "0        337          118                  4  ...  9.65         1              0.92\n",
              "1        324          107                  4  ...  8.87         1              0.76\n",
              "2        316          104                  3  ...  8.00         1              0.72\n",
              "3        322          110                  3  ...  8.67         1              0.80\n",
              "4        314          103                  2  ...  8.21         0              0.65\n",
              "\n",
              "[5 rows x 8 columns]"
            ]
          },
          "metadata": {
            "tags": []
          },
          "execution_count": 10
        }
      ]
    },
    {
      "cell_type": "code",
      "metadata": {
        "id": "wkKCua5E8daV",
        "colab_type": "code",
        "colab": {
          "base_uri": "https://localhost:8080/",
          "height": 67
        },
        "outputId": "9cd23807-93b0-4203-f57a-f6a72d256c2a"
      },
      "source": [
        "# Viewing the final columns which we'll use for prediction\n",
        "data.columns"
      ],
      "execution_count": 11,
      "outputs": [
        {
          "output_type": "execute_result",
          "data": {
            "text/plain": [
              "Index(['GRE Score', 'TOEFL Score', 'University Rating', 'SOP', 'LOR ', 'CGPA',\n",
              "       'Research', 'Chance of Admit '],\n",
              "      dtype='object')"
            ]
          },
          "metadata": {
            "tags": []
          },
          "execution_count": 11
        }
      ]
    },
    {
      "cell_type": "code",
      "metadata": {
        "id": "xtxLfeF_8gZ5",
        "colab_type": "code",
        "colab": {}
      },
      "source": [
        "# Separating X from data\n",
        "X = data.iloc[:,:7]"
      ],
      "execution_count": 12,
      "outputs": []
    },
    {
      "cell_type": "code",
      "metadata": {
        "id": "vgU3TGzq9KPP",
        "colab_type": "code",
        "colab": {
          "base_uri": "https://localhost:8080/",
          "height": 195
        },
        "outputId": "7a8bf6a4-d607-45d0-e42e-b5d7becf52bc"
      },
      "source": [
        "X.head()"
      ],
      "execution_count": 13,
      "outputs": [
        {
          "output_type": "execute_result",
          "data": {
            "text/html": [
              "<div>\n",
              "<style scoped>\n",
              "    .dataframe tbody tr th:only-of-type {\n",
              "        vertical-align: middle;\n",
              "    }\n",
              "\n",
              "    .dataframe tbody tr th {\n",
              "        vertical-align: top;\n",
              "    }\n",
              "\n",
              "    .dataframe thead th {\n",
              "        text-align: right;\n",
              "    }\n",
              "</style>\n",
              "<table border=\"1\" class=\"dataframe\">\n",
              "  <thead>\n",
              "    <tr style=\"text-align: right;\">\n",
              "      <th></th>\n",
              "      <th>GRE Score</th>\n",
              "      <th>TOEFL Score</th>\n",
              "      <th>University Rating</th>\n",
              "      <th>SOP</th>\n",
              "      <th>LOR</th>\n",
              "      <th>CGPA</th>\n",
              "      <th>Research</th>\n",
              "    </tr>\n",
              "  </thead>\n",
              "  <tbody>\n",
              "    <tr>\n",
              "      <th>0</th>\n",
              "      <td>337</td>\n",
              "      <td>118</td>\n",
              "      <td>4</td>\n",
              "      <td>4.5</td>\n",
              "      <td>4.5</td>\n",
              "      <td>9.65</td>\n",
              "      <td>1</td>\n",
              "    </tr>\n",
              "    <tr>\n",
              "      <th>1</th>\n",
              "      <td>324</td>\n",
              "      <td>107</td>\n",
              "      <td>4</td>\n",
              "      <td>4.0</td>\n",
              "      <td>4.5</td>\n",
              "      <td>8.87</td>\n",
              "      <td>1</td>\n",
              "    </tr>\n",
              "    <tr>\n",
              "      <th>2</th>\n",
              "      <td>316</td>\n",
              "      <td>104</td>\n",
              "      <td>3</td>\n",
              "      <td>3.0</td>\n",
              "      <td>3.5</td>\n",
              "      <td>8.00</td>\n",
              "      <td>1</td>\n",
              "    </tr>\n",
              "    <tr>\n",
              "      <th>3</th>\n",
              "      <td>322</td>\n",
              "      <td>110</td>\n",
              "      <td>3</td>\n",
              "      <td>3.5</td>\n",
              "      <td>2.5</td>\n",
              "      <td>8.67</td>\n",
              "      <td>1</td>\n",
              "    </tr>\n",
              "    <tr>\n",
              "      <th>4</th>\n",
              "      <td>314</td>\n",
              "      <td>103</td>\n",
              "      <td>2</td>\n",
              "      <td>2.0</td>\n",
              "      <td>3.0</td>\n",
              "      <td>8.21</td>\n",
              "      <td>0</td>\n",
              "    </tr>\n",
              "  </tbody>\n",
              "</table>\n",
              "</div>"
            ],
            "text/plain": [
              "   GRE Score  TOEFL Score  University Rating  SOP  LOR   CGPA  Research\n",
              "0        337          118                  4  4.5   4.5  9.65         1\n",
              "1        324          107                  4  4.0   4.5  8.87         1\n",
              "2        316          104                  3  3.0   3.5  8.00         1\n",
              "3        322          110                  3  3.5   2.5  8.67         1\n",
              "4        314          103                  2  2.0   3.0  8.21         0"
            ]
          },
          "metadata": {
            "tags": []
          },
          "execution_count": 13
        }
      ]
    },
    {
      "cell_type": "code",
      "metadata": {
        "id": "FEOa7xha-RlH",
        "colab_type": "code",
        "colab": {}
      },
      "source": [
        "# Separating Y from data\n",
        "Y = data.iloc[:,7:]"
      ],
      "execution_count": 14,
      "outputs": []
    },
    {
      "cell_type": "code",
      "metadata": {
        "id": "VqU0b5El-kFE",
        "colab_type": "code",
        "colab": {
          "base_uri": "https://localhost:8080/",
          "height": 195
        },
        "outputId": "119173f9-a1d2-4ed9-c0b0-73607ee7aeda"
      },
      "source": [
        "Y.head()"
      ],
      "execution_count": 15,
      "outputs": [
        {
          "output_type": "execute_result",
          "data": {
            "text/html": [
              "<div>\n",
              "<style scoped>\n",
              "    .dataframe tbody tr th:only-of-type {\n",
              "        vertical-align: middle;\n",
              "    }\n",
              "\n",
              "    .dataframe tbody tr th {\n",
              "        vertical-align: top;\n",
              "    }\n",
              "\n",
              "    .dataframe thead th {\n",
              "        text-align: right;\n",
              "    }\n",
              "</style>\n",
              "<table border=\"1\" class=\"dataframe\">\n",
              "  <thead>\n",
              "    <tr style=\"text-align: right;\">\n",
              "      <th></th>\n",
              "      <th>Chance of Admit</th>\n",
              "    </tr>\n",
              "  </thead>\n",
              "  <tbody>\n",
              "    <tr>\n",
              "      <th>0</th>\n",
              "      <td>0.92</td>\n",
              "    </tr>\n",
              "    <tr>\n",
              "      <th>1</th>\n",
              "      <td>0.76</td>\n",
              "    </tr>\n",
              "    <tr>\n",
              "      <th>2</th>\n",
              "      <td>0.72</td>\n",
              "    </tr>\n",
              "    <tr>\n",
              "      <th>3</th>\n",
              "      <td>0.80</td>\n",
              "    </tr>\n",
              "    <tr>\n",
              "      <th>4</th>\n",
              "      <td>0.65</td>\n",
              "    </tr>\n",
              "  </tbody>\n",
              "</table>\n",
              "</div>"
            ],
            "text/plain": [
              "   Chance of Admit \n",
              "0              0.92\n",
              "1              0.76\n",
              "2              0.72\n",
              "3              0.80\n",
              "4              0.65"
            ]
          },
          "metadata": {
            "tags": []
          },
          "execution_count": 15
        }
      ]
    },
    {
      "cell_type": "code",
      "metadata": {
        "id": "X5nA9PJe-p-D",
        "colab_type": "code",
        "colab": {}
      },
      "source": [
        "# Using train_test_split to split the data for tarining and testing as 0.9 and 0.1 respectively.\n",
        "X_train,X_test,Y_train,Y_test = train_test_split(X,Y, random_state = 0, shuffle = True, test_size = 0.1)"
      ],
      "execution_count": 16,
      "outputs": []
    },
    {
      "cell_type": "code",
      "metadata": {
        "id": "Oy1egZSi_LF8",
        "colab_type": "code",
        "colab": {}
      },
      "source": [
        "# Loading the classifier from the sklearn\n",
        "classifier = LinearRegression()"
      ],
      "execution_count": 17,
      "outputs": []
    },
    {
      "cell_type": "code",
      "metadata": {
        "id": "ctPN08st_9aZ",
        "colab_type": "code",
        "colab": {
          "base_uri": "https://localhost:8080/",
          "height": 34
        },
        "outputId": "d06bc493-2a75-45c4-ea34-1fc9b956e6c8"
      },
      "source": [
        "# Fitting the classifier onto the training data\n",
        "classifier.fit(X_train,Y_train)"
      ],
      "execution_count": 18,
      "outputs": [
        {
          "output_type": "execute_result",
          "data": {
            "text/plain": [
              "LinearRegression(copy_X=True, fit_intercept=True, n_jobs=None, normalize=False)"
            ]
          },
          "metadata": {
            "tags": []
          },
          "execution_count": 18
        }
      ]
    },
    {
      "cell_type": "code",
      "metadata": {
        "id": "jAB1uGR29IzY",
        "colab_type": "code",
        "colab": {
          "base_uri": "https://localhost:8080/",
          "height": 283
        },
        "outputId": "09880ec6-fcc7-41cf-e755-96847d9f5d53"
      },
      "source": [
        "# Visualize the effect of GRE Score on chance of of getting an admit.  \n",
        "plt.scatter(X_train[\"GRE Score\"],Y_train, color = \"red\")\n",
        "plt.xlabel(\"GRE Score\")\n",
        "plt.ylabel(\"Chance of Admission\")\n",
        "plt.legend([\"GRE Score\"])\n",
        "plt.show()"
      ],
      "execution_count": 19,
      "outputs": [
        {
          "output_type": "display_data",
          "data": {
            "image/png": "[encoded data removed]",
            "text/plain": [
              "<Figure size 432x288 with 1 Axes>"
            ]
          },
          "metadata": {
            "tags": [],
            "needs_background": "light"
          }
        }
      ]
    },
    {
      "cell_type": "markdown",
      "metadata": {
        "id": "7lM0hZ3UOGZK",
        "colab_type": "text"
      },
      "source": [
        "We see an increasing plot which shows higher GRE Score increases the chances of admission."
      ]
    },
    {
      "cell_type": "code",
      "metadata": {
        "id": "76jgh99Wy8Io",
        "colab_type": "code",
        "colab": {
          "base_uri": "https://localhost:8080/",
          "height": 283
        },
        "outputId": "0d65a323-3ed0-4e0a-c0e8-e2ec8fd82530"
      },
      "source": [
        "# Visulize the University Rating vs. Chance of Admission.   \n",
        "plt.scatter(X_train[\"University Rating\"],Y_train, color = \"blue\")\n",
        "plt.xlabel(\"University Rating\")\n",
        "plt.ylabel(\"Chance of Admission\")\n",
        "plt.legend([\"University Rating\"])\n",
        "plt.show()"
      ],
      "execution_count": 20,
      "outputs": [
        {
          "output_type": "display_data",
          "data": {
            "image/png": "[encoded data removed]",
            "text/plain": [
              "<Figure size 432x288 with 1 Axes>"
            ]
          },
          "metadata": {
            "tags": [],
            "needs_background": "light"
          }
        }
      ]
    },
    {
      "cell_type": "markdown",
      "metadata": {
        "id": "HCW2CZGXNsGl",
        "colab_type": "text"
      },
      "source": [
        "This plot shows that Universities with average rating(2.0 - 4.0) have high no. of admissions signified by density of dots. This is because nobody applies in universities with low ratings and those with high ratings have low acceptance rate in general."
      ]
    },
    {
      "cell_type": "code",
      "metadata": {
        "id": "gy92JWI_zCrH",
        "colab_type": "code",
        "colab": {
          "base_uri": "https://localhost:8080/",
          "height": 283
        },
        "outputId": "5fe7c449-6dbf-4db2-ed17-25360503200f"
      },
      "source": [
        "# Visualize the effect of CGPA on chance of of getting an admit. \n",
        "plt.scatter(X_train[\"CGPA\"],Y_train, color = \"green\")\n",
        "plt.xlabel(\"CGPA\")\n",
        "plt.ylabel(\"Chance of Admission\")\n",
        "plt.legend([\"CGPA\"])\n",
        "plt.show()"
      ],
      "execution_count": 21,
      "outputs": [
        {
          "output_type": "display_data",
          "data": {
            "image/png": "[encoded data removed]",
            "text/plain": [
              "<Figure size 432x288 with 1 Axes>"
            ]
          },
          "metadata": {
            "tags": [],
            "needs_background": "light"
          }
        }
      ]
    },
    {
      "cell_type": "markdown",
      "metadata": {
        "id": "r2skc6ohOVSj",
        "colab_type": "text"
      },
      "source": [
        "We can clearly see that higher CGPA has higher chance of admission."
      ]
    },
    {
      "cell_type": "code",
      "metadata": {
        "id": "y0JMvUpwBJ43",
        "colab_type": "code",
        "colab": {}
      },
      "source": [
        "#Using the classifier to predict the test data and storing it in prediction_of_y array\n",
        "prediction_of_Y = classifier.predict(X_test)"
      ],
      "execution_count": 22,
      "outputs": []
    },
    {
      "cell_type": "code",
      "metadata": {
        "id": "Np_fF56kBjxw",
        "colab_type": "code",
        "colab": {
          "base_uri": "https://localhost:8080/",
          "height": 118
        },
        "outputId": "7ca54308-5a5e-42a7-a3a3-fe421c9a2c56"
      },
      "source": [
        "# Printing the first six predicted values\n",
        "prediction_of_Y = np.round(prediction_of_Y, decimals = 3)\n",
        "prediction_of_Y[:6]"
      ],
      "execution_count": 23,
      "outputs": [
        {
          "output_type": "execute_result",
          "data": {
            "text/plain": [
              "array([[0.659],\n",
              "       [0.831],\n",
              "       [0.779],\n",
              "       [0.877],\n",
              "       [0.61 ],\n",
              "       [0.648]])"
            ]
          },
          "metadata": {
            "tags": []
          },
          "execution_count": 23
        }
      ]
    },
    {
      "cell_type": "code",
      "metadata": {
        "id": "n5Aoq29bVEfJ",
        "colab_type": "code",
        "colab": {
          "base_uri": "https://localhost:8080/",
          "height": 313
        },
        "outputId": "ce9a0664-879e-429a-c6cd-fdc7142878da"
      },
      "source": [
        "# Comparision of predicted data(prediction_of_Y) and actual data(Y_test)\n",
        "print(Y_test[:6])\n",
        "df_predict = pd.DataFrame(prediction_of_Y)\n",
        "df_predict = df_predict.rename(columns={0:\"Predicted chance of admit\"})\n",
        "df_predict.head()"
      ],
      "execution_count": 24,
      "outputs": [
        {
          "output_type": "stream",
          "text": [
            "     Chance of Admit \n",
            "90               0.64\n",
            "254              0.85\n",
            "283              0.80\n",
            "445              0.91\n",
            "461              0.68\n",
            "15               0.54\n"
          ],
          "name": "stdout"
        },
        {
          "output_type": "execute_result",
          "data": {
            "text/html": [
              "<div>\n",
              "<style scoped>\n",
              "    .dataframe tbody tr th:only-of-type {\n",
              "        vertical-align: middle;\n",
              "    }\n",
              "\n",
              "    .dataframe tbody tr th {\n",
              "        vertical-align: top;\n",
              "    }\n",
              "\n",
              "    .dataframe thead th {\n",
              "        text-align: right;\n",
              "    }\n",
              "</style>\n",
              "<table border=\"1\" class=\"dataframe\">\n",
              "  <thead>\n",
              "    <tr style=\"text-align: right;\">\n",
              "      <th></th>\n",
              "      <th>Predicted chance of admit</th>\n",
              "    </tr>\n",
              "  </thead>\n",
              "  <tbody>\n",
              "    <tr>\n",
              "      <th>0</th>\n",
              "      <td>0.659</td>\n",
              "    </tr>\n",
              "    <tr>\n",
              "      <th>1</th>\n",
              "      <td>0.831</td>\n",
              "    </tr>\n",
              "    <tr>\n",
              "      <th>2</th>\n",
              "      <td>0.779</td>\n",
              "    </tr>\n",
              "    <tr>\n",
              "      <th>3</th>\n",
              "      <td>0.877</td>\n",
              "    </tr>\n",
              "    <tr>\n",
              "      <th>4</th>\n",
              "      <td>0.610</td>\n",
              "    </tr>\n",
              "  </tbody>\n",
              "</table>\n",
              "</div>"
            ],
            "text/plain": [
              "   Predicted chance of admit\n",
              "0                      0.659\n",
              "1                      0.831\n",
              "2                      0.779\n",
              "3                      0.877\n",
              "4                      0.610"
            ]
          },
          "metadata": {
            "tags": []
          },
          "execution_count": 24
        }
      ]
    },
    {
      "cell_type": "markdown",
      "metadata": {
        "id": "nTyalQ47IthX",
        "colab_type": "text"
      },
      "source": [
        "From the above comparison we can observe that this model predicts the chances of admit with an error margin of 5%."
      ]
    },
    {
      "cell_type": "code",
      "metadata": {
        "id": "iSewXLREwv_Y",
        "colab_type": "code",
        "colab": {
          "base_uri": "https://localhost:8080/",
          "height": 279
        },
        "outputId": "b76187bd-78b3-49c2-9b77-5f546c421332"
      },
      "source": [
        "# Visualize the difference in graph for same parameter \"GRE Score\" for actual chance & prediction chance. \n",
        "plt.scatter(X_test[\"GRE Score\"],Y_test, color = \"red\")\n",
        "plt.scatter(X_test[\"GRE Score\"], prediction_of_Y, color='yellow')\n",
        "plt.xlabel(\"GRE Score\")\n",
        "plt.ylabel(\"Chance of Admission\")\n",
        "plt.legend([\"Actual chance for GRE Score\",\"Predicted chance for GRE Score\"])\n",
        "plt.show()"
      ],
      "execution_count": 25,
      "outputs": [
        {
          "output_type": "display_data",
          "data": {
            "image/png": "[encoded data removed]",
            "text/plain": [
              "<Figure size 432x288 with 1 Axes>"
            ]
          },
          "metadata": {
            "tags": [],
            "needs_background": "light"
          }
        }
      ]
    },
    {
      "cell_type": "markdown",
      "metadata": {
        "id": "LdHBbZVjKZgI",
        "colab_type": "text"
      },
      "source": [
        "In the above plot we understand how GRE Score parameter \n",
        "which is same produces different effect for predicted value than for actual value. The red dots at the bottom of the graph are outliers for our model."
      ]
    },
    {
      "cell_type": "code",
      "metadata": {
        "id": "I3yJ64jXmPc3",
        "colab_type": "code",
        "colab": {
          "base_uri": "https://localhost:8080/",
          "height": 279
        },
        "outputId": "a36422ad-47f9-44ac-b181-0bc872b2d13e"
      },
      "source": [
        "# Visualize the difference in graph for same parameter \"SOP\" for actual chance & prediction chance.\n",
        "plt.scatter(X_test[\"SOP\"],Y_test, color = \"blue\")\n",
        "plt.scatter(X_test[\"SOP\"], prediction_of_Y, color='yellow')\n",
        "plt.xlabel(\"SOP\")\n",
        "plt.ylabel(\"Chance of Admission\")\n",
        "plt.legend([\"Actual chance for SOP\",\"Predicted chance for SOP\"])\n",
        "plt.show()"
      ],
      "execution_count": 26,
      "outputs": [
        {
          "output_type": "display_data",
          "data": {
            "image/png": "[encoded data removed]",
            "text/plain": [
              "<Figure size 432x288 with 1 Axes>"
            ]
          },
          "metadata": {
            "tags": [],
            "needs_background": "light"
          }
        }
      ]
    },
    {
      "cell_type": "markdown",
      "metadata": {
        "id": "dSENibvWLMl2",
        "colab_type": "text"
      },
      "source": [
        "This graph is more evident than above. \n",
        "Consider SOP with rating 1.0: The actual chance of admission is near 60% and predictated chance is near 50%.\n",
        "Consider SOP with rating 2.0: The actual chance of admission is lower the predited chance. And this continues for higher SOP as well.\n",
        "Hence this model shows lower chance of admit than actual for low values of SOP and higher than actual chance for high values of SOP which is true as SOP is a pivotal factor in getting an admission."
      ]
    },
    {
      "cell_type": "code",
      "metadata": {
        "id": "zad6OYglBmT_",
        "colab_type": "code",
        "colab": {
          "base_uri": "https://localhost:8080/",
          "height": 34
        },
        "outputId": "3487bf78-52c0-43ab-883e-71c77aed0c0b"
      },
      "source": [
        "# Comparing the predicted data with actual data to get the accuracy of the model\n",
        "print('Accuracy: {:.2f}'.format(classifier.score(X_test, Y_test)))"
      ],
      "execution_count": 27,
      "outputs": [
        {
          "output_type": "stream",
          "text": [
            "Accuracy: 0.86\n"
          ],
          "name": "stdout"
        }
      ]
    },
    {
      "cell_type": "markdown",
      "metadata": {
        "id": "Erri3OQO0mP4",
        "colab_type": "text"
      },
      "source": [
        "Now that we know that our model is substantially accurate, we must check it by adding arrbitary values or to be more correct real-world values specfied by the user. \n",
        "Let's assume that I have good GRE Score of 332, TOEFL Score of 107, good SOP and LOR of 4.5 and 4.0 respectively, my CGPA is 9.34 but I have not done any research. Let's see what are the chance of me getting an admit in a  5.0 rated university. "
      ]
    },
    {
      "cell_type": "code",
      "metadata": {
        "id": "UCwps3hdCIJr",
        "colab_type": "code",
        "colab": {
          "base_uri": "https://localhost:8080/",
          "height": 50
        },
        "outputId": "36c63e36-0e33-47c7-8b5a-021802c3c932"
      },
      "source": [
        "# User - specified predictions. Adding my data to X_test dataset:\n",
        "my_data = X_test.append(pd.Series([332, 107, 5, 4.5, 4.0, 9.34, 0], index = X_test.columns), ignore_index = True)\n",
        "\n",
        "# Checking the datarame for our values:\n",
        "print(my_data[-1:])"
      ],
      "execution_count": 28,
      "outputs": [
        {
          "output_type": "stream",
          "text": [
            "    GRE Score  TOEFL Score  University Rating  SOP  LOR   CGPA  Research\n",
            "50      332.0        107.0                5.0  4.5   4.0  9.34       0.0\n"
          ],
          "name": "stdout"
        }
      ]
    },
    {
      "cell_type": "code",
      "metadata": {
        "id": "XC_sN4i69cI-",
        "colab_type": "code",
        "colab": {
          "base_uri": "https://localhost:8080/",
          "height": 34
        },
        "outputId": "59d50751-fdcd-41c0-8779-4ba9714ef2aa"
      },
      "source": [
        "#Checking my chances of admission. # As the new record is saved at the end array the result will be the last value. \n",
        "my_chance = classifier.predict(my_data)\n",
        "my_chance[-1]"
      ],
      "execution_count": 29,
      "outputs": [
        {
          "output_type": "execute_result",
          "data": {
            "text/plain": [
              "array([0.84682967])"
            ]
          },
          "metadata": {
            "tags": []
          },
          "execution_count": 29
        }
      ]
    },
    {
      "cell_type": "markdown",
      "metadata": {
        "id": "-kw08yccpJwU",
        "colab_type": "text"
      },
      "source": [
        "So this means I have a pretty good chance of around of getting an admit. Similarly you can check the admission chance for more than one record as well.Let's see how to do that."
      ]
    },
    {
      "cell_type": "code",
      "metadata": {
        "id": "_Rpx8OLypu8x",
        "colab_type": "code",
        "colab": {
          "base_uri": "https://localhost:8080/",
          "height": 168
        },
        "outputId": "cf33d5f0-b5d0-488e-b5c5-6febea230e52"
      },
      "source": [
        "# Evaluating admit chance for multiple user-defined records:\n",
        "list_of_records = [pd.Series([309, 90, 4, 4, 3.5, 7.14, 0], index = X_test.columns),\n",
        "                   pd.Series([300, 99, 3, 3.5, 3.5, 8.09, 0], index = X_test.columns),\n",
        "                   pd.Series([304, 108, 4, 4, 3.5, 7.91, 0], index = X_test.columns),\n",
        "                   pd.Series([295, 113, 5, 4.5, 4, 8.76, 1], index = X_test.columns)]\n",
        "user_defined = X_test.append(list_of_records, ignore_index= True)\n",
        "print(user_defined[-4:]) \n",
        "\n",
        "chances = classifier.predict(user_defined)\n",
        "chances[-4:]"
      ],
      "execution_count": 30,
      "outputs": [
        {
          "output_type": "stream",
          "text": [
            "    GRE Score  TOEFL Score  University Rating  SOP  LOR   CGPA  Research\n",
            "50      309.0         90.0                4.0  4.0   3.5  7.14       0.0\n",
            "51      300.0         99.0                3.0  3.5   3.5  8.09       0.0\n",
            "52      304.0        108.0                4.0  4.0   3.5  7.91       0.0\n",
            "53      295.0        113.0                5.0  4.5   4.0  8.76       1.0\n"
          ],
          "name": "stdout"
        },
        {
          "output_type": "execute_result",
          "data": {
            "text/plain": [
              "array([[0.48493208],\n",
              "       [0.59780829],\n",
              "       [0.61799131],\n",
              "       [0.75518013]])"
            ]
          },
          "metadata": {
            "tags": []
          },
          "execution_count": 30
        }
      ]
    },
    {
      "cell_type": "markdown",
      "metadata": {
        "id": "6bZ9zdapsiVL",
        "colab_type": "text"
      },
      "source": [
        "By observing the above results I can make an assumption that CGPA and Research are more important factors than GRE Score for getting an admit. Do you think I am wrong ? Try experimenting with the record values and check what the impact it has on the chance of admit. Maybe you will land on a different assumption of your own or may be you will prove me wrong."
      ]
    }
  ]
}